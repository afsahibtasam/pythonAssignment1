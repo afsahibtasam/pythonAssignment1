{
 "cells": [
  {
   "cell_type": "code",
   "execution_count": 18,
   "id": "db3843be",
   "metadata": {},
   "outputs": [
    {
     "name": "stdout",
     "output_type": "stream",
     "text": [
      "Twinkle, twinkle, little star,\n",
      "\tHow I wonder what you are! \n",
      "\tUp abbove the world so high, \n",
      "\tLike a diamond in the sky. \n",
      "Twinkwle, twinkle, little star, \n",
      "\tHow I wonder what you are!\n"
     ]
    }
   ],
   "source": [
    " print(\"Twinkle, twinkle, little star,\\n\\tHow I wonder what you are! \\n\\tUp abbove the world so high, \\n\\tLike a diamond in the sky. \\nTwinkwle, twinkle, little star, \\n\\tHow I wonder what you are!\")"
   ]
  },
  {
   "cell_type": "code",
   "execution_count": 19,
   "id": "f7857734",
   "metadata": {},
   "outputs": [
    {
     "name": "stdout",
     "output_type": "stream",
     "text": [
      "Python version\n",
      "3.9.7 (default, Sep 16 2021, 16:58:32) [MSC v.1916 32 bit (Intel)]\n",
      "Version info.\n",
      "sys.version_info(major=3, minor=9, micro=7, releaselevel='final', serial=0)\n"
     ]
    }
   ],
   "source": [
    "import sys\n",
    "print(\"Python version\")\n",
    "print(sys.version)\n",
    "print(\"Version info.\")\n",
    "print(sys.version_info)"
   ]
  },
  {
   "cell_type": "code",
   "execution_count": 20,
   "id": "c71c1177",
   "metadata": {},
   "outputs": [
    {
     "data": {
      "text/plain": [
       "datetime.datetime(2021, 12, 31, 14, 0, 37, 804181)"
      ]
     },
     "execution_count": 20,
     "metadata": {},
     "output_type": "execute_result"
    }
   ],
   "source": [
    "import datetime\n",
    "datetime.datetime.now()"
   ]
  },
  {
   "cell_type": "code",
   "execution_count": 21,
   "id": "c3eba995",
   "metadata": {},
   "outputs": [
    {
     "name": "stdout",
     "output_type": "stream",
     "text": [
      "Enter radious of circle : 9\n",
      "Area of the circle is: 254.46900494077323\n"
     ]
    }
   ],
   "source": [
    "from math import pi\n",
    "r= float(input (\"Enter radious of circle : \"))\n",
    "print (\"Area of the circle is: \" + str(pi *r**2))"
   ]
  },
  {
   "cell_type": "code",
   "execution_count": 27,
   "id": "7aaa679d",
   "metadata": {},
   "outputs": [
    {
     "name": "stdout",
     "output_type": "stream",
     "text": [
      " input your First Name :  Afsah\n",
      "  input your Last Name : Ibtasam\n",
      "Ibtasam  Afsah\n"
     ]
    }
   ],
   "source": [
    "firstname= input (\" input your First Name :  \")\n",
    "lastname= input(\"  input your Last Name : \")\n",
    "print( lastname + \"  \" + firstname)"
   ]
  },
  {
   "cell_type": "code",
   "execution_count": 28,
   "id": "8503ba06",
   "metadata": {},
   "outputs": [
    {
     "name": "stdout",
     "output_type": "stream",
     "text": [
      "enter first number : 44\n",
      "enter second number : 66\n",
      "sum of  44 and 66 is 110\n"
     ]
    }
   ],
   "source": [
    "a=int(input(\"enter first number : \"))\n",
    "b=int(input(\"enter second number : \"))\n",
    "print(\"sum of \" , a , \"and\", b, \"is\", a+b)"
   ]
  },
  {
   "cell_type": "code",
   "execution_count": null,
   "id": "a003d021",
   "metadata": {},
   "outputs": [],
   "source": []
  }
 ],
 "metadata": {
  "kernelspec": {
   "display_name": "Python 3 (ipykernel)",
   "language": "python",
   "name": "python3"
  },
  "language_info": {
   "codemirror_mode": {
    "name": "ipython",
    "version": 3
   },
   "file_extension": ".py",
   "mimetype": "text/x-python",
   "name": "python",
   "nbconvert_exporter": "python",
   "pygments_lexer": "ipython3",
   "version": "3.9.7"
  }
 },
 "nbformat": 4,
 "nbformat_minor": 5
}
